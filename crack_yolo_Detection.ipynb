{
  "cells": [
    {
      "cell_type": "markdown",
      "metadata": {
        "id": "view-in-github",
        "colab_type": "text"
      },
      "source": [
        "<a href=\"https://colab.research.google.com/github/timothy-voiuhy/CrackDetection/blob/main/crack_yolo_Detection.ipynb\" target=\"_parent\"><img src=\"https://colab.research.google.com/assets/colab-badge.svg\" alt=\"Open In Colab\"/></a>"
      ]
    },
    {
      "cell_type": "code",
      "execution_count": null,
      "metadata": {
        "colab": {
          "base_uri": "https://localhost:8080/"
        },
        "id": "IqBz4m1gSQhc",
        "outputId": "df563b7c-f0d0-44cf-a585-fb9f51e4e496"
      },
      "outputs": [
        {
          "output_type": "stream",
          "name": "stdout",
          "text": [
            "Collecting ultralytics\n",
            "  Downloading ultralytics-8.3.23-py3-none-any.whl.metadata (35 kB)\n",
            "Requirement already satisfied: numpy>=1.23.0 in /usr/local/lib/python3.10/dist-packages (from ultralytics) (1.26.4)\n",
            "Requirement already satisfied: matplotlib>=3.3.0 in /usr/local/lib/python3.10/dist-packages (from ultralytics) (3.7.1)\n",
            "Requirement already satisfied: opencv-python>=4.6.0 in /usr/local/lib/python3.10/dist-packages (from ultralytics) (4.10.0.84)\n",
            "Requirement already satisfied: pillow>=7.1.2 in /usr/local/lib/python3.10/dist-packages (from ultralytics) (10.4.0)\n",
            "Requirement already satisfied: pyyaml>=5.3.1 in /usr/local/lib/python3.10/dist-packages (from ultralytics) (6.0.2)\n",
            "Requirement already satisfied: requests>=2.23.0 in /usr/local/lib/python3.10/dist-packages (from ultralytics) (2.32.3)\n",
            "Requirement already satisfied: scipy>=1.4.1 in /usr/local/lib/python3.10/dist-packages (from ultralytics) (1.13.1)\n",
            "Requirement already satisfied: torch>=1.8.0 in /usr/local/lib/python3.10/dist-packages (from ultralytics) (2.5.0+cu121)\n",
            "Requirement already satisfied: torchvision>=0.9.0 in /usr/local/lib/python3.10/dist-packages (from ultralytics) (0.20.0+cu121)\n",
            "Requirement already satisfied: tqdm>=4.64.0 in /usr/local/lib/python3.10/dist-packages (from ultralytics) (4.66.5)\n",
            "Requirement already satisfied: psutil in /usr/local/lib/python3.10/dist-packages (from ultralytics) (5.9.5)\n",
            "Requirement already satisfied: py-cpuinfo in /usr/local/lib/python3.10/dist-packages (from ultralytics) (9.0.0)\n",
            "Requirement already satisfied: pandas>=1.1.4 in /usr/local/lib/python3.10/dist-packages (from ultralytics) (2.2.2)\n",
            "Requirement already satisfied: seaborn>=0.11.0 in /usr/local/lib/python3.10/dist-packages (from ultralytics) (0.13.2)\n",
            "Collecting ultralytics-thop>=2.0.0 (from ultralytics)\n",
            "  Downloading ultralytics_thop-2.0.9-py3-none-any.whl.metadata (9.3 kB)\n",
            "Requirement already satisfied: contourpy>=1.0.1 in /usr/local/lib/python3.10/dist-packages (from matplotlib>=3.3.0->ultralytics) (1.3.0)\n",
            "Requirement already satisfied: cycler>=0.10 in /usr/local/lib/python3.10/dist-packages (from matplotlib>=3.3.0->ultralytics) (0.12.1)\n",
            "Requirement already satisfied: fonttools>=4.22.0 in /usr/local/lib/python3.10/dist-packages (from matplotlib>=3.3.0->ultralytics) (4.54.1)\n",
            "Requirement already satisfied: kiwisolver>=1.0.1 in /usr/local/lib/python3.10/dist-packages (from matplotlib>=3.3.0->ultralytics) (1.4.7)\n",
            "Requirement already satisfied: packaging>=20.0 in /usr/local/lib/python3.10/dist-packages (from matplotlib>=3.3.0->ultralytics) (24.1)\n",
            "Requirement already satisfied: pyparsing>=2.3.1 in /usr/local/lib/python3.10/dist-packages (from matplotlib>=3.3.0->ultralytics) (3.2.0)\n",
            "Requirement already satisfied: python-dateutil>=2.7 in /usr/local/lib/python3.10/dist-packages (from matplotlib>=3.3.0->ultralytics) (2.8.2)\n",
            "Requirement already satisfied: pytz>=2020.1 in /usr/local/lib/python3.10/dist-packages (from pandas>=1.1.4->ultralytics) (2024.2)\n",
            "Requirement already satisfied: tzdata>=2022.7 in /usr/local/lib/python3.10/dist-packages (from pandas>=1.1.4->ultralytics) (2024.2)\n",
            "Requirement already satisfied: charset-normalizer<4,>=2 in /usr/local/lib/python3.10/dist-packages (from requests>=2.23.0->ultralytics) (3.4.0)\n",
            "Requirement already satisfied: idna<4,>=2.5 in /usr/local/lib/python3.10/dist-packages (from requests>=2.23.0->ultralytics) (3.10)\n",
            "Requirement already satisfied: urllib3<3,>=1.21.1 in /usr/local/lib/python3.10/dist-packages (from requests>=2.23.0->ultralytics) (2.2.3)\n",
            "Requirement already satisfied: certifi>=2017.4.17 in /usr/local/lib/python3.10/dist-packages (from requests>=2.23.0->ultralytics) (2024.8.30)\n",
            "Requirement already satisfied: filelock in /usr/local/lib/python3.10/dist-packages (from torch>=1.8.0->ultralytics) (3.16.1)\n",
            "Requirement already satisfied: typing-extensions>=4.8.0 in /usr/local/lib/python3.10/dist-packages (from torch>=1.8.0->ultralytics) (4.12.2)\n",
            "Requirement already satisfied: networkx in /usr/local/lib/python3.10/dist-packages (from torch>=1.8.0->ultralytics) (3.4.2)\n",
            "Requirement already satisfied: jinja2 in /usr/local/lib/python3.10/dist-packages (from torch>=1.8.0->ultralytics) (3.1.4)\n",
            "Requirement already satisfied: fsspec in /usr/local/lib/python3.10/dist-packages (from torch>=1.8.0->ultralytics) (2024.6.1)\n",
            "Requirement already satisfied: sympy==1.13.1 in /usr/local/lib/python3.10/dist-packages (from torch>=1.8.0->ultralytics) (1.13.1)\n",
            "Requirement already satisfied: mpmath<1.4,>=1.1.0 in /usr/local/lib/python3.10/dist-packages (from sympy==1.13.1->torch>=1.8.0->ultralytics) (1.3.0)\n",
            "Requirement already satisfied: six>=1.5 in /usr/local/lib/python3.10/dist-packages (from python-dateutil>=2.7->matplotlib>=3.3.0->ultralytics) (1.16.0)\n",
            "Requirement already satisfied: MarkupSafe>=2.0 in /usr/local/lib/python3.10/dist-packages (from jinja2->torch>=1.8.0->ultralytics) (3.0.2)\n",
            "Downloading ultralytics-8.3.23-py3-none-any.whl (877 kB)\n",
            "\u001b[2K   \u001b[90m━━━━━━━━━━━━━━━━━━━━━━━━━━━━━━━━━━━━━━━━\u001b[0m \u001b[32m877.6/877.6 kB\u001b[0m \u001b[31m36.7 MB/s\u001b[0m eta \u001b[36m0:00:00\u001b[0m\n",
            "\u001b[?25hDownloading ultralytics_thop-2.0.9-py3-none-any.whl (26 kB)\n",
            "Installing collected packages: ultralytics-thop, ultralytics\n",
            "Successfully installed ultralytics-8.3.23 ultralytics-thop-2.0.9\n"
          ]
        }
      ],
      "source": [
        "!pip install ultralytics"
      ]
    },
    {
      "cell_type": "code",
      "execution_count": null,
      "metadata": {
        "id": "a_9wSHwTSQhl",
        "colab": {
          "base_uri": "https://localhost:8080/"
        },
        "outputId": "d0cd6e5c-1352-452f-c793-b9ecefb403e9"
      },
      "outputs": [
        {
          "output_type": "stream",
          "name": "stdout",
          "text": [
            "Creating new Ultralytics Settings v0.0.6 file ✅ \n",
            "View Ultralytics Settings with 'yolo settings' or at '/root/.config/Ultralytics/settings.json'\n",
            "Update Settings with 'yolo settings key=value', i.e. 'yolo settings runs_dir=path/to/dir'. For help see https://docs.ultralytics.com/quickstart/#ultralytics-settings.\n"
          ]
        }
      ],
      "source": [
        "import os\n",
        "import shutil\n",
        "import glob\n",
        "import json\n",
        "import yaml\n",
        "import cv2\n",
        "\n",
        "import torch\n",
        "from ultralytics import YOLO\n",
        "import matplotlib.pyplot as plt\n",
        "from PIL import Image"
      ]
    },
    {
      "cell_type": "code",
      "execution_count": null,
      "metadata": {
        "colab": {
          "base_uri": "https://localhost:8080/"
        },
        "id": "k4eZ6E_hSQho",
        "outputId": "451cd6bb-f994-457a-c57b-8f05857bc981"
      },
      "outputs": [
        {
          "output_type": "stream",
          "name": "stdout",
          "text": [
            "Mounted at /content/drive\n"
          ]
        }
      ],
      "source": [
        "# setup dataset directory\n",
        "try:\n",
        "    from google.colab import drive\n",
        "    drive.mount(\"/content/drive\")\n",
        "    yolo_project_dir= \"/content/drive/MyDrive/Models/Yolo_Cracks_SegmentationV1\"\n",
        "    local_dataset_dir = \"/content/datasets/CCSS-DATA-V4-withVal/benchmarkingDatasets/\"\n",
        "    lastModel = \"/content/drive/MyDrive/Models/Yolo_Cracks_Segmentation/train/weights/last.pt\"\n",
        "    bestModelPath = \"/content/drive/MyDrive/Models/Yolo_Cracks_Segmentation/train/weights/best.pt\"\n",
        "except Exception as e:\n",
        "    local_dataset_dir = \"/home/kali/AI_ML/DATA/CCSS-DATA-V4-withVal/benchmarkingDatasets/\"\n",
        "    bestModelPath = \"./CSModel.pt\"\n",
        "YOLO_YAML_FILE = local_dataset_dir+\"yolo_dataset/data.yaml\""
      ]
    },
    {
      "cell_type": "code",
      "source": [
        "local_dataset_dir"
      ],
      "metadata": {
        "colab": {
          "base_uri": "https://localhost:8080/",
          "height": 36
        },
        "id": "ycVVZgBFeS5k",
        "outputId": "fd7728e1-ede1-4cc4-d84c-30939b292c48"
      },
      "execution_count": null,
      "outputs": [
        {
          "output_type": "execute_result",
          "data": {
            "text/plain": [
              "'/content/datasets/CCSS-DATA-V4-withVal/benchmarkingDatasets/'"
            ],
            "application/vnd.google.colaboratory.intrinsic+json": {
              "type": "string"
            }
          },
          "metadata": {},
          "execution_count": 116
        }
      ]
    },
    {
      "cell_type": "code",
      "execution_count": null,
      "metadata": {
        "colab": {
          "base_uri": "https://localhost:8080/"
        },
        "id": "oPkaMqoRSQhp",
        "outputId": "dfcf71c4-982e-4f8e-e6fb-60594894406f"
      },
      "outputs": [
        {
          "output_type": "stream",
          "name": "stdout",
          "text": [
            "CCSS-DATA-V4-withVal\n"
          ]
        }
      ],
      "source": [
        "# !kaggle datasets download -d parniashokri/ccssdata\n",
        "# !unzip ccssdata.zip\n",
        "# !mkdir BACKUP\n",
        "# !cp -r CCSS-DATA-V4-withVal BACKUP\n",
        "# !mkdir /content/datasets/\n",
        "# ! rm -rf CCSS-DATA-V4-withVal\n",
        "# ! cp -r BACKUP/CCSS-DATA-V4-withVal /content/datasets/\n",
        "# !ls ./CCSS-DATA-V4-withVal/benchmarkingDatasets/\n",
        "# !mv ./CCSS-DATA-V4-withVal /content/datasets/\n",
        "!ls /content/datasets/"
      ]
    },
    {
      "cell_type": "code",
      "execution_count": null,
      "metadata": {
        "id": "eUrKEF43SQhq"
      },
      "outputs": [],
      "source": [
        "input_dir_path= local_dataset_dir+\"input/\"\n",
        "non_dir = local_dataset_dir+\"train/noAugmentation-noPatch\"\n",
        "train_dir = local_dataset_dir+\"train/traditionalAugmentation-withPatch/\"\n",
        "# train_images_dir = input_dir_path+\"train\""
      ]
    },
    {
      "cell_type": "code",
      "execution_count": null,
      "metadata": {
        "id": "72xTz9fJSQhr"
      },
      "outputs": [],
      "source": [
        "def organizeDir():\n",
        "    if os.path.isdir(non_dir):\n",
        "        shutil.rmtree(non_dir)\n",
        "        for dir_name in os.listdir(train_dir):\n",
        "            dir_path = os.path.join(train_dir, dir_name)\n",
        "            shutil.move(dir_path, os.path.join(local_dataset_dir, 'train'))\n",
        "        os.rmdir(train_dir)\n",
        "\n",
        "    if not os.path.isdir(input_dir_path):\n",
        "        os.mkdir(input_dir_path)\n",
        "\n",
        "    for dir_name in os.listdir(local_dataset_dir):\n",
        "        dir_path = os.path.join(local_dataset_dir, dir_name)\n",
        "        if dir_name != \"input\":\n",
        "            img_dir = os.path.join(dir_path, \"img\")\n",
        "            mask_dir = os.path.join(dir_path, \"lbl\")\n",
        "            new_img_dir = os.path.join(dir_path, f\"{dir_name}Images\")\n",
        "            new_mask_dir = os.path.join(dir_path, f\"{dir_name}Masks\")\n",
        "            if not os.path.isdir(new_mask_dir):\n",
        "                os.rename(img_dir, new_img_dir)\n",
        "                os.rename(mask_dir, new_mask_dir)\n",
        "                shutil.move(new_img_dir, input_dir_path)\n",
        "                shutil.move(new_mask_dir, input_dir_path)\n",
        "                os.rmdir(dir_path)\n",
        "\n",
        "    train_mask_dir = os.path.join(input_dir_path, \"trainMasks\")\n",
        "    validation_mask_dir = os.path.join(input_dir_path, \"validationMasks\")\n",
        "    test_mask_dir= os.path.join(input_dir_path, \"testMasks\")\n",
        "\n",
        "    train_cracks_category_dir = os.path.join(train_mask_dir, \"crack\")\n",
        "    val_cracks_category_dir = os.path.join(validation_mask_dir, \"crack\")\n",
        "    test_cracks_category_dir = os.path.join(test_mask_dir, \"crack\")\n",
        "\n",
        "    if not os.path.isdir(train_cracks_category_dir):\n",
        "        if not os.path.isdir(train_cracks_category_dir):\n",
        "            os.mkdir(train_cracks_category_dir)\n",
        "            os.mkdir(val_cracks_category_dir)\n",
        "            os.mkdir(test_cracks_category_dir)\n",
        "\n",
        "        # Move files using shutil and glob instead of os.system\n",
        "        for file_path in glob.glob(os.path.join(train_mask_dir, \"*.jpg\")):\n",
        "            shutil.move(file_path, train_cracks_category_dir)\n",
        "\n",
        "        for file_path in glob.glob(os.path.join(validation_mask_dir, \"*.jpg\")):\n",
        "            shutil.move(file_path, val_cracks_category_dir)\n",
        "\n",
        "        for file_path in glob.glob(os.path.join(test_mask_dir, \"*.jpg\")):\n",
        "            shutil.move(file_path, test_cracks_category_dir)\n",
        "# Call organizeDir to execute the function\n",
        "organizeDir()"
      ]
    },
    {
      "cell_type": "code",
      "execution_count": null,
      "metadata": {
        "id": "fltSu04ySQhs"
      },
      "outputs": [],
      "source": [
        "# generating the yolodataset format\n",
        "# first we convert our dataset into a coco format\n",
        "\n",
        "# needed: json file file in each of the train test and validation images directories\n",
        "\n",
        "# json dict format\n",
        "COCO_FORMAT = {\n",
        "    \"info\": {},\n",
        "    \"licenses\": [],\n",
        "    \"images\": [],\n",
        "    \"categories\": [],\n",
        "    \"annotations\": []\n",
        "}\n",
        "\n",
        "PLACEHOLDER = 0\n",
        "\n",
        "# each image in the images list above is of the format:\n",
        "IMAGE_FORMAT= {\n",
        "    \"id\":PLACEHOLDER,\n",
        "    \"width\":PLACEHOLDER,\n",
        "    \"height\": PLACEHOLDER,\n",
        "    \"filename\": PLACEHOLDER\n",
        "}\n",
        "\n",
        "#each annotation in the annotation is of the format\n",
        "\n",
        "ANNOTATION_FORMAT = {\n",
        "    \"iscrowd\":PLACEHOLDER,\n",
        "    \"id\":PLACEHOLDER,\n",
        "    \"image_id\": PLACEHOLDER,\n",
        "    \"category_id\": PLACEHOLDER,\n",
        "    \"bbox\": PLACEHOLDER,\n",
        "    \"area\": PLACEHOLDER,\n",
        "    \"segmentation\": [PLACEHOLDER, PLACEHOLDER, ...]\n",
        "}"
      ]
    },
    {
      "cell_type": "code",
      "execution_count": null,
      "metadata": {
        "id": "6J98TQHjSQht"
      },
      "outputs": [],
      "source": [
        "cracks_paths = glob.glob(os.path.join(local_dataset_dir+\"input/trainImages/\", \"*.jpg\"))"
      ]
    },
    {
      "cell_type": "code",
      "execution_count": null,
      "metadata": {
        "id": "Amh2NmrpSQhx"
      },
      "outputs": [],
      "source": [
        "category_ids = {\n",
        "    \"Crack\":1,\n",
        "}\n",
        "annotations = []\n",
        "images = []\n",
        "\n",
        "def getImagesAnnotations(masks_path):\n",
        "    image_id = 0\n",
        "    annotation_id = 0\n",
        "\n",
        "    annotations = []\n",
        "    images = []\n",
        "\n",
        "    cracks_dir = os.path.join(masks_path, \"crack\")\n",
        "    mask_paths = glob.glob(os.path.join(cracks_dir, \"*.jpg\"))\n",
        "\n",
        "    for mask_image in mask_paths:\n",
        "        original_file_name = f'{os.path.basename(mask_image).split(\".\")[0]}.jpg'\n",
        "        mask_image_open = cv2.imread(mask_image)\n",
        "\n",
        "        # Get image dimensions\n",
        "        height, width, _ = mask_image_open.shape\n",
        "\n",
        "        # Create or find existing image annotation\n",
        "        if original_file_name not in map(lambda img: img['file_name'], images):\n",
        "            image = {\n",
        "                \"id\": image_id + 1,\n",
        "                \"width\": width,\n",
        "                \"height\": height,\n",
        "                \"file_name\": original_file_name,\n",
        "            }\n",
        "            images.append(image)\n",
        "            image_id += 1\n",
        "        else:\n",
        "            image = [element for element in images if element['file_name'] == original_file_name][0]\n",
        "\n",
        "        # Find contours in the mask image\n",
        "        gray = cv2.cvtColor(mask_image_open, cv2.COLOR_BGR2GRAY)\n",
        "        _, thresh = cv2.threshold(gray, 0, 255, cv2.THRESH_BINARY + cv2.THRESH_OTSU)\n",
        "        contours = cv2.findContours(thresh, cv2.RETR_TREE, cv2.CHAIN_APPROX_SIMPLE)[0]\n",
        "\n",
        "        # Create annotation for each contour\n",
        "        for contour in contours:\n",
        "            bbox = cv2.boundingRect(contour)\n",
        "            area = cv2.contourArea(contour)\n",
        "            segmentation = contour.flatten().tolist()\n",
        "\n",
        "            annotation = {\n",
        "                \"iscrowd\": 0,\n",
        "                \"id\": annotation_id,\n",
        "                \"image_id\": image['id'],\n",
        "                \"category_id\": 1,\n",
        "                \"bbox\": bbox,\n",
        "                \"area\": area,\n",
        "                \"segmentation\": [segmentation],\n",
        "            }\n",
        "            # Add annotation if area is greater than zero\n",
        "            if area > 0:\n",
        "                annotations.append(annotation)\n",
        "                annotation_id += 1\n",
        "    return images, annotations, annotation_id\n",
        "\n",
        "def process_masks(mask_path, dest_json):\n",
        "    global image_id, annotation_id\n",
        "    image_id = 0\n",
        "    annotation_id = 0\n",
        "\n",
        "    # Initialize the COCO JSON format with categories\n",
        "    coco_format = {\n",
        "        \"info\": {},\n",
        "        \"licenses\": [],\n",
        "        \"images\": [],\n",
        "        \"categories\": [{\"id\": value, \"name\": key, \"supercategory\": key} for key, value in category_ids.items()],\n",
        "        \"annotations\": [],\n",
        "    }\n",
        "\n",
        "    # Create images and annotations sections\n",
        "    coco_format[\"images\"], coco_format[\"annotations\"], annotation_cnt = getImagesAnnotations(mask_path)\n",
        "\n",
        "    # Save the COCO JSON to a file\n",
        "    with open(dest_json, \"w\") as outfile:\n",
        "        json.dump(coco_format, outfile, sort_keys=True, indent=4)\n",
        "\n",
        "    print(\"Created %d annotations for images in folder: %s\" % (annotation_cnt, mask_path))"
      ]
    },
    {
      "cell_type": "code",
      "execution_count": null,
      "metadata": {
        "colab": {
          "base_uri": "https://localhost:8080/"
        },
        "id": "a3utsFTlSQhz",
        "outputId": "686dc239-32a4-4988-a144-b3c07d5fbaa8"
      },
      "outputs": [
        {
          "output_type": "stream",
          "name": "stdout",
          "text": [
            "Created 28564 annotations for images in folder: /content/datasets/CCSS-DATA-V4-withVal/benchmarkingDatasets/input/trainMasks\n",
            "Created 2065 annotations for images in folder: /content/datasets/CCSS-DATA-V4-withVal/benchmarkingDatasets/input/validationMasks\n",
            "Created 2500 annotations for images in folder: /content/datasets/CCSS-DATA-V4-withVal/benchmarkingDatasets/input/testMasks\n"
          ]
        }
      ],
      "source": [
        "train_mask_path = os.path.join(local_dataset_dir+\"input\", \"trainMasks\")\n",
        "train_json_path = local_dataset_dir+\"input/trainImages/train.json\"\n",
        "process_masks(train_mask_path, train_json_path)\n",
        "\n",
        "val_mask_path = os.path.join(local_dataset_dir+\"input\", \"validationMasks\")\n",
        "val_json_path = local_dataset_dir+\"input/validationImages/val.json\"\n",
        "process_masks(val_mask_path, val_json_path)\n",
        "\n",
        "test_mask_path = os.path.join(local_dataset_dir+\"input\", \"testMasks\")\n",
        "test_json_path = local_dataset_dir+\"input/testImages/test.json\"\n",
        "process_masks(test_mask_path, test_json_path)"
      ]
    },
    {
      "cell_type": "markdown",
      "metadata": {
        "id": "jx7YFbwgSQh0"
      },
      "source": [
        "# The ultralytics yolo dataset format:\n",
        "The dataset label format used for traiing YOLO segmentation models is as follows\n",
        "1. Onet text file per image. Each image in the dataset has a corresponding text file with the same name as the image ile and the \".txt\" file extension.\n",
        "2. One row per object: Each row in the text file  corresponds to one object instance in the image.\n",
        "3. Object information per row: Each row contains the following information about the object instance:\n",
        "    Object class index: An interger representing the class of the object(eg 0 for       person , 1 for car etc).\n",
        "    Object bounding coordinates: The bounding coordinates around the mask area, normalized to be between 0 and 1.\n",
        "\n",
        "The format for a single row in the segmentation dataset file is as follows:\n",
        "<\\class-index> <\\x1> <\\y1> <\\x2> <\\y2> ... <\\xn> <\\yn>"
      ]
    },
    {
      "cell_type": "code",
      "execution_count": null,
      "metadata": {
        "id": "E654P2FfSQh4"
      },
      "outputs": [],
      "source": [
        "# now we change the coco format to yolo format\n",
        "# Function to convert images to YOLO format\n",
        "def convert_to_yolo(input_images_path, input_json_path, output_images_path, output_labels_path):\n",
        "    # Open JSON file containing image annotations\n",
        "    f = open(input_json_path)\n",
        "    data = json.load(f)\n",
        "    f.close()\n",
        "\n",
        "    # Create directories for output images and labels\n",
        "    os.makedirs(output_images_path, exist_ok=True)\n",
        "    os.makedirs(output_labels_path, exist_ok=True)\n",
        "\n",
        "    # List to store filenames\n",
        "    file_names = []\n",
        "    for filename in os.listdir(input_images_path):\n",
        "        if filename.endswith(\".jpg\"):\n",
        "            source = os.path.join(input_images_path, filename)\n",
        "            destination = os.path.join(output_images_path, filename)\n",
        "            shutil.copy(source, destination)\n",
        "            file_names.append(filename)\n",
        "\n",
        "    # Function to get image annotations\n",
        "    def get_img_ann(image_id):\n",
        "        return [ann for ann in data['annotations'] if ann['image_id'] == image_id]\n",
        "\n",
        "    # Function to get image data\n",
        "    def get_img(filename):\n",
        "        return next((img for img in data['images'] if img['file_name'] == filename), None)\n",
        "\n",
        "    # Iterate through filenames and process each image\n",
        "    for filename in file_names:\n",
        "        img = get_img(filename)\n",
        "        img_id = img['id']\n",
        "        img_w = img['width']\n",
        "        img_h = img['height']\n",
        "        img_ann = get_img_ann(img_id)\n",
        "\n",
        "        # Write normalized polygon data to a text file\n",
        "        if img_ann:\n",
        "            with open(os.path.join(output_labels_path, f\"{os.path.splitext(filename)[0]}.txt\"), \"a\") as file_object:\n",
        "                for ann in img_ann:\n",
        "                    current_category = ann['category_id'] - 1\n",
        "                    polygon = ann['segmentation'][0]\n",
        "                    normalized_polygon = [format(coord / img_w if i % 2 == 0 else coord / img_h, '.6f') for i, coord in enumerate(polygon)]\n",
        "                    file_object.write(f\"{current_category} \" + \" \".join(normalized_polygon) + \"\\n\")\n",
        "\n",
        "# Function to create a YAML file for the dataset\n",
        "def create_yaml(input_json_path, output_yaml_path, train_path, val_path, test_path=None):\n",
        "    with open(input_json_path) as f:\n",
        "        data = json.load(f)\n",
        "    # Extract the category names\n",
        "    names = [category['name'] for category in data['categories']]\n",
        "    # Number of classes\n",
        "    nc = len(names)\n",
        "    # Create a dictionary with the required content\n",
        "    yaml_data = {\n",
        "        'names': names,\n",
        "        'nc': nc,\n",
        "        'test': test_path if test_path else '',\n",
        "        'train': train_path,\n",
        "        'val': val_path\n",
        "    }\n",
        "    # Write the dictionary to a YAML file\n",
        "    with open(output_yaml_path, 'w') as file:\n",
        "        yaml.dump(yaml_data, file, default_flow_style=False)\n"
      ]
    },
    {
      "cell_type": "code",
      "execution_count": null,
      "metadata": {
        "id": "Ss7f7KbsSQh5"
      },
      "outputs": [],
      "source": [
        "base_input_path = local_dataset_dir+\"input/\"\n",
        "base_output_path = local_dataset_dir+\"yolo_dataset/\"\n",
        "\n",
        "# Processing validation dataset (if needed)\n",
        "convert_to_yolo(\n",
        "    input_images_path=os.path.join(base_input_path, \"validationImages\"),\n",
        "    input_json_path=os.path.join(base_input_path, \"validationImages/val.json\"),\n",
        "    output_images_path=os.path.join(base_output_path, \"valid/images\"),\n",
        "    output_labels_path=os.path.join(base_output_path, \"valid/labels\")\n",
        ")\n",
        "\n",
        "# Processing training dataset\n",
        "convert_to_yolo(\n",
        "    input_images_path=os.path.join(base_input_path, \"trainImages\"),\n",
        "    input_json_path=os.path.join(base_input_path, \"trainImages/train.json\"),\n",
        "    output_images_path=os.path.join(base_output_path, \"train/images\"),\n",
        "    output_labels_path=os.path.join(base_output_path, \"train/labels\")\n",
        ")\n",
        "\n",
        "convert_to_yolo(\n",
        "    input_images_path=os.path.join(base_input_path, \"testImages\"),\n",
        "    input_json_path=os.path.join(base_input_path, \"testImages/test.json\"),\n",
        "    output_images_path=os.path.join(base_output_path, \"test/images\"),\n",
        "    output_labels_path=os.path.join(base_output_path, \"test/labels\")\n",
        ")"
      ]
    },
    {
      "cell_type": "code",
      "execution_count": null,
      "metadata": {
        "id": "UbwBFjeUSQh5"
      },
      "outputs": [],
      "source": [
        "    # Creating the YAML configuration file\n",
        "create_yaml(\n",
        "    input_json_path=os.path.join(base_input_path, \"trainImages/train.json\"),\n",
        "    output_yaml_path=os.path.join(base_output_path, \"data.yaml\"),\n",
        "    train_path=local_dataset_dir+\"yolo_dataset/train/images\",\n",
        "    val_path=local_dataset_dir+\"yolo_dataset/valid/images\",\n",
        "    test_path=local_dataset_dir+\"yolo_dataset/test/images\"\n",
        ")"
      ]
    },
    {
      "cell_type": "code",
      "execution_count": null,
      "metadata": {
        "colab": {
          "base_uri": "https://localhost:8080/"
        },
        "id": "QaC2r5FMSQh6",
        "outputId": "43d3f8c3-2a62-44bc-9964-292635c36a7c"
      },
      "outputs": [
        {
          "output_type": "stream",
          "name": "stdout",
          "text": [
            "GPU found\n"
          ]
        }
      ],
      "source": [
        "if torch.cuda.is_available():\n",
        "    device = torch.device(\"cuda\")\n",
        "    print(\"GPU found\")\n",
        "else:\n",
        "    print(\"GPU not found. Using CPU\")\n",
        "    device = torch.device(\"cpu\")"
      ]
    },
    {
      "cell_type": "code",
      "execution_count": null,
      "metadata": {
        "id": "HMgBxbvySQh6",
        "colab": {
          "base_uri": "https://localhost:8080/"
        },
        "outputId": "ba9386f1-effc-45c1-cc0b-0142e0cd093e"
      },
      "outputs": [
        {
          "output_type": "stream",
          "name": "stdout",
          "text": [
            "Downloading https://github.com/ultralytics/assets/releases/download/v8.3.0/yolo11n.pt to 'yolo11n.pt'...\n"
          ]
        },
        {
          "output_type": "stream",
          "name": "stderr",
          "text": [
            "100%|██████████| 5.35M/5.35M [00:00<00:00, 272MB/s]\n"
          ]
        }
      ],
      "source": [
        "# training the yolo model on the data\n",
        "model = YOLO(\"yolo11n.pt\")\n"
      ]
    },
    {
      "cell_type": "code",
      "source": [
        "results = model.train(\n",
        "    data = YOLO_YAML_FILE,\n",
        "    epochs = 30,\n",
        "    project = yolo_project_dir,\n",
        "    batch = 32,\n",
        "    verbose= True,\n",
        "    save = True,\n",
        "    device = device,\n",
        "    patience = 5\n",
        ")"
      ],
      "metadata": {
        "colab": {
          "base_uri": "https://localhost:8080/"
        },
        "id": "Lp3gAT0zgq0b",
        "outputId": "d6ffd8b3-5ea6-4054-8d93-e649ad10f9ca"
      },
      "execution_count": null,
      "outputs": [
        {
          "output_type": "stream",
          "name": "stdout",
          "text": [
            "\u001b[34m\u001b[1mengine/trainer: \u001b[0mtask=detect, mode=train, model=yolo11n.pt, data=/content/datasets/CCSS-DATA-V4-withVal/benchmarkingDatasets/yolo_dataset/data.yaml, epochs=30, time=None, patience=5, batch=32, imgsz=640, save=True, save_period=-1, cache=False, device=cuda, workers=8, project=/content/drive/MyDrive/Models/Yolo_Cracks_SegmentationV1, name=train, exist_ok=False, pretrained=True, optimizer=auto, verbose=True, seed=0, deterministic=True, single_cls=False, rect=False, cos_lr=False, close_mosaic=10, resume=False, amp=True, fraction=1.0, profile=False, freeze=None, multi_scale=False, overlap_mask=True, mask_ratio=4, dropout=0.0, val=True, split=val, save_json=False, save_hybrid=False, conf=None, iou=0.7, max_det=300, half=False, dnn=False, plots=True, source=None, vid_stride=1, stream_buffer=False, visualize=False, augment=False, agnostic_nms=False, classes=None, retina_masks=False, embed=None, show=False, save_frames=False, save_txt=False, save_conf=False, save_crop=False, show_labels=True, show_conf=True, show_boxes=True, line_width=None, format=torchscript, keras=False, optimize=False, int8=False, dynamic=False, simplify=True, opset=None, workspace=4, nms=False, lr0=0.01, lrf=0.01, momentum=0.937, weight_decay=0.0005, warmup_epochs=3.0, warmup_momentum=0.8, warmup_bias_lr=0.1, box=7.5, cls=0.5, dfl=1.5, pose=12.0, kobj=1.0, label_smoothing=0.0, nbs=64, hsv_h=0.015, hsv_s=0.7, hsv_v=0.4, degrees=0.0, translate=0.1, scale=0.5, shear=0.0, perspective=0.0, flipud=0.0, fliplr=0.5, bgr=0.0, mosaic=1.0, mixup=0.0, copy_paste=0.0, copy_paste_mode=flip, auto_augment=randaugment, erasing=0.4, crop_fraction=1.0, cfg=None, tracker=botsort.yaml, save_dir=/content/drive/MyDrive/Models/Yolo_Cracks_SegmentationV1/train\n",
            "Downloading https://ultralytics.com/assets/Arial.ttf to '/root/.config/Ultralytics/Arial.ttf'...\n"
          ]
        },
        {
          "output_type": "stream",
          "name": "stderr",
          "text": [
            "100%|██████████| 755k/755k [00:00<00:00, 107MB/s]\n"
          ]
        },
        {
          "output_type": "stream",
          "name": "stdout",
          "text": [
            "Overriding model.yaml nc=80 with nc=1\n",
            "\n",
            "                   from  n    params  module                                       arguments                     \n",
            "  0                  -1  1       464  ultralytics.nn.modules.conv.Conv             [3, 16, 3, 2]                 \n",
            "  1                  -1  1      4672  ultralytics.nn.modules.conv.Conv             [16, 32, 3, 2]                \n",
            "  2                  -1  1      6640  ultralytics.nn.modules.block.C3k2            [32, 64, 1, False, 0.25]      \n",
            "  3                  -1  1     36992  ultralytics.nn.modules.conv.Conv             [64, 64, 3, 2]                \n",
            "  4                  -1  1     26080  ultralytics.nn.modules.block.C3k2            [64, 128, 1, False, 0.25]     \n",
            "  5                  -1  1    147712  ultralytics.nn.modules.conv.Conv             [128, 128, 3, 2]              \n",
            "  6                  -1  1     87040  ultralytics.nn.modules.block.C3k2            [128, 128, 1, True]           \n",
            "  7                  -1  1    295424  ultralytics.nn.modules.conv.Conv             [128, 256, 3, 2]              \n",
            "  8                  -1  1    346112  ultralytics.nn.modules.block.C3k2            [256, 256, 1, True]           \n",
            "  9                  -1  1    164608  ultralytics.nn.modules.block.SPPF            [256, 256, 5]                 \n",
            " 10                  -1  1    249728  ultralytics.nn.modules.block.C2PSA           [256, 256, 1]                 \n",
            " 11                  -1  1         0  torch.nn.modules.upsampling.Upsample         [None, 2, 'nearest']          \n",
            " 12             [-1, 6]  1         0  ultralytics.nn.modules.conv.Concat           [1]                           \n",
            " 13                  -1  1    111296  ultralytics.nn.modules.block.C3k2            [384, 128, 1, False]          \n",
            " 14                  -1  1         0  torch.nn.modules.upsampling.Upsample         [None, 2, 'nearest']          \n",
            " 15             [-1, 4]  1         0  ultralytics.nn.modules.conv.Concat           [1]                           \n",
            " 16                  -1  1     32096  ultralytics.nn.modules.block.C3k2            [256, 64, 1, False]           \n",
            " 17                  -1  1     36992  ultralytics.nn.modules.conv.Conv             [64, 64, 3, 2]                \n",
            " 18            [-1, 13]  1         0  ultralytics.nn.modules.conv.Concat           [1]                           \n",
            " 19                  -1  1     86720  ultralytics.nn.modules.block.C3k2            [192, 128, 1, False]          \n",
            " 20                  -1  1    147712  ultralytics.nn.modules.conv.Conv             [128, 128, 3, 2]              \n",
            " 21            [-1, 10]  1         0  ultralytics.nn.modules.conv.Concat           [1]                           \n",
            " 22                  -1  1    378880  ultralytics.nn.modules.block.C3k2            [384, 256, 1, True]           \n",
            " 23        [16, 19, 22]  1    430867  ultralytics.nn.modules.head.Detect           [1, [64, 128, 256]]           \n",
            "YOLO11n summary: 319 layers, 2,590,035 parameters, 2,590,019 gradients, 6.4 GFLOPs\n",
            "\n",
            "Transferred 448/499 items from pretrained weights\n",
            "\u001b[34m\u001b[1mTensorBoard: \u001b[0mStart with 'tensorboard --logdir /content/drive/MyDrive/Models/Yolo_Cracks_SegmentationV1/train', view at http://localhost:6006/\n",
            "Freezing layer 'model.23.dfl.conv.weight'\n",
            "\u001b[34m\u001b[1mAMP: \u001b[0mrunning Automatic Mixed Precision (AMP) checks...\n",
            "\u001b[34m\u001b[1mAMP: \u001b[0mchecks passed ✅\n"
          ]
        },
        {
          "output_type": "stream",
          "name": "stderr",
          "text": [
            "\u001b[34m\u001b[1mtrain: \u001b[0mScanning /content/datasets/CCSS-DATA-V4-withVal/benchmarkingDatasets/yolo_dataset/train/labels... 2648 images, 134 backgrounds, 0 corrupt: 100%|██████████| 2782/2782 [00:03<00:00, 785.14it/s]\n"
          ]
        },
        {
          "output_type": "stream",
          "name": "stdout",
          "text": [
            "\u001b[34m\u001b[1mtrain: \u001b[0mNew cache created: /content/datasets/CCSS-DATA-V4-withVal/benchmarkingDatasets/yolo_dataset/train/labels.cache\n",
            "\u001b[34m\u001b[1malbumentations: \u001b[0mBlur(p=0.01, blur_limit=(3, 7)), MedianBlur(p=0.01, blur_limit=(3, 7)), ToGray(p=0.01, num_output_channels=3, method='weighted_average'), CLAHE(p=0.01, clip_limit=(1, 4.0), tile_grid_size=(8, 8))\n"
          ]
        },
        {
          "output_type": "stream",
          "name": "stderr",
          "text": [
            "/usr/local/lib/python3.10/dist-packages/albumentations/__init__.py:13: UserWarning: A new version of Albumentations is available: 1.4.20 (you have 1.4.15). Upgrade using: pip install -U albumentations. To disable automatic update checks, set the environment variable NO_ALBUMENTATIONS_UPDATE to 1.\n",
            "  check_for_updates()\n",
            "\u001b[34m\u001b[1mval: \u001b[0mScanning /content/datasets/CCSS-DATA-V4-withVal/benchmarkingDatasets/yolo_dataset/valid/labels... 176 images, 5 backgrounds, 0 corrupt: 100%|██████████| 181/181 [00:00<00:00, 275.13it/s]"
          ]
        },
        {
          "output_type": "stream",
          "name": "stdout",
          "text": [
            "\u001b[34m\u001b[1mval: \u001b[0mNew cache created: /content/datasets/CCSS-DATA-V4-withVal/benchmarkingDatasets/yolo_dataset/valid/labels.cache\n"
          ]
        },
        {
          "output_type": "stream",
          "name": "stderr",
          "text": [
            "\n"
          ]
        },
        {
          "output_type": "stream",
          "name": "stdout",
          "text": [
            "Plotting labels to /content/drive/MyDrive/Models/Yolo_Cracks_SegmentationV1/train/labels.jpg... \n",
            "\u001b[34m\u001b[1moptimizer:\u001b[0m 'optimizer=auto' found, ignoring 'lr0=0.01' and 'momentum=0.937' and determining best 'optimizer', 'lr0' and 'momentum' automatically... \n",
            "\u001b[34m\u001b[1moptimizer:\u001b[0m AdamW(lr=0.002, momentum=0.9) with parameter groups 81 weight(decay=0.0), 88 weight(decay=0.0005), 87 bias(decay=0.0)\n",
            "\u001b[34m\u001b[1mTensorBoard: \u001b[0mmodel graph visualization added ✅\n",
            "Image sizes 640 train, 640 val\n",
            "Using 2 dataloader workers\n",
            "Logging results to \u001b[1m/content/drive/MyDrive/Models/Yolo_Cracks_SegmentationV1/train\u001b[0m\n",
            "Starting training for 30 epochs...\n",
            "\n",
            "      Epoch    GPU_mem   box_loss   cls_loss   dfl_loss  Instances       Size\n"
          ]
        },
        {
          "output_type": "stream",
          "name": "stderr",
          "text": [
            "       1/30      6.18G      1.878      2.671      1.611        339        640: 100%|██████████| 87/87 [01:53<00:00,  1.30s/it]\n",
            "                 Class     Images  Instances      Box(P          R      mAP50  mAP50-95): 100%|██████████| 3/3 [00:04<00:00,  1.59s/it]"
          ]
        },
        {
          "output_type": "stream",
          "name": "stdout",
          "text": [
            "                   all        181       2065      0.155     0.0673     0.0304     0.0129\n"
          ]
        },
        {
          "output_type": "stream",
          "name": "stderr",
          "text": [
            "\n"
          ]
        },
        {
          "output_type": "stream",
          "name": "stdout",
          "text": [
            "\n",
            "      Epoch    GPU_mem   box_loss   cls_loss   dfl_loss  Instances       Size\n"
          ]
        },
        {
          "output_type": "stream",
          "name": "stderr",
          "text": [
            "       2/30      5.28G      1.964      2.344       1.61        280        640: 100%|██████████| 87/87 [01:48<00:00,  1.25s/it]\n",
            "                 Class     Images  Instances      Box(P          R      mAP50  mAP50-95): 100%|██████████| 3/3 [00:03<00:00,  1.06s/it]"
          ]
        },
        {
          "output_type": "stream",
          "name": "stdout",
          "text": [
            "                   all        181       2065      0.146      0.091     0.0394     0.0154\n"
          ]
        },
        {
          "output_type": "stream",
          "name": "stderr",
          "text": [
            "\n"
          ]
        },
        {
          "output_type": "stream",
          "name": "stdout",
          "text": [
            "\n",
            "      Epoch    GPU_mem   box_loss   cls_loss   dfl_loss  Instances       Size\n"
          ]
        },
        {
          "output_type": "stream",
          "name": "stderr",
          "text": [
            "       3/30       6.8G      1.947      2.227      1.596        309        640: 100%|██████████| 87/87 [01:46<00:00,  1.22s/it]\n",
            "                 Class     Images  Instances      Box(P          R      mAP50  mAP50-95): 100%|██████████| 3/3 [00:03<00:00,  1.06s/it]"
          ]
        },
        {
          "output_type": "stream",
          "name": "stdout",
          "text": [
            "                   all        181       2065      0.116     0.0726     0.0318     0.0103\n"
          ]
        },
        {
          "output_type": "stream",
          "name": "stderr",
          "text": [
            "\n"
          ]
        },
        {
          "output_type": "stream",
          "name": "stdout",
          "text": [
            "\n",
            "      Epoch    GPU_mem   box_loss   cls_loss   dfl_loss  Instances       Size\n"
          ]
        },
        {
          "output_type": "stream",
          "name": "stderr",
          "text": [
            "       4/30       6.3G      1.937      2.183      1.586        255        640: 100%|██████████| 87/87 [01:48<00:00,  1.25s/it]\n",
            "                 Class     Images  Instances      Box(P          R      mAP50  mAP50-95): 100%|██████████| 3/3 [00:04<00:00,  1.38s/it]"
          ]
        },
        {
          "output_type": "stream",
          "name": "stdout",
          "text": [
            "                   all        181       2065      0.127     0.0881     0.0398     0.0165\n"
          ]
        },
        {
          "output_type": "stream",
          "name": "stderr",
          "text": [
            "\n"
          ]
        },
        {
          "output_type": "stream",
          "name": "stdout",
          "text": [
            "\n",
            "      Epoch    GPU_mem   box_loss   cls_loss   dfl_loss  Instances       Size\n"
          ]
        },
        {
          "output_type": "stream",
          "name": "stderr",
          "text": [
            "       5/30      6.09G      1.867        2.1      1.557        298        640: 100%|██████████| 87/87 [01:46<00:00,  1.22s/it]\n",
            "                 Class     Images  Instances      Box(P          R      mAP50  mAP50-95): 100%|██████████| 3/3 [00:04<00:00,  1.43s/it]"
          ]
        },
        {
          "output_type": "stream",
          "name": "stdout",
          "text": [
            "                   all        181       2065      0.158     0.0872      0.046      0.019\n"
          ]
        },
        {
          "output_type": "stream",
          "name": "stderr",
          "text": [
            "\n"
          ]
        },
        {
          "output_type": "stream",
          "name": "stdout",
          "text": [
            "\n",
            "      Epoch    GPU_mem   box_loss   cls_loss   dfl_loss  Instances       Size\n"
          ]
        },
        {
          "output_type": "stream",
          "name": "stderr",
          "text": [
            "       6/30       5.9G      1.824      2.067      1.526        348        640: 100%|██████████| 87/87 [01:46<00:00,  1.23s/it]\n",
            "                 Class     Images  Instances      Box(P          R      mAP50  mAP50-95): 100%|██████████| 3/3 [00:03<00:00,  1.32s/it]"
          ]
        },
        {
          "output_type": "stream",
          "name": "stdout",
          "text": [
            "                   all        181       2065      0.128     0.0915     0.0406     0.0167\n"
          ]
        },
        {
          "output_type": "stream",
          "name": "stderr",
          "text": [
            "\n"
          ]
        },
        {
          "output_type": "stream",
          "name": "stdout",
          "text": [
            "\n",
            "      Epoch    GPU_mem   box_loss   cls_loss   dfl_loss  Instances       Size\n"
          ]
        },
        {
          "output_type": "stream",
          "name": "stderr",
          "text": [
            "       7/30      6.28G      1.782      2.006      1.504        249        640: 100%|██████████| 87/87 [01:47<00:00,  1.24s/it]\n",
            "                 Class     Images  Instances      Box(P          R      mAP50  mAP50-95): 100%|██████████| 3/3 [00:03<00:00,  1.27s/it]"
          ]
        },
        {
          "output_type": "stream",
          "name": "stdout",
          "text": [
            "                   all        181       2065      0.174      0.108     0.0576     0.0248\n"
          ]
        },
        {
          "output_type": "stream",
          "name": "stderr",
          "text": [
            "\n"
          ]
        },
        {
          "output_type": "stream",
          "name": "stdout",
          "text": [
            "\n",
            "      Epoch    GPU_mem   box_loss   cls_loss   dfl_loss  Instances       Size\n"
          ]
        },
        {
          "output_type": "stream",
          "name": "stderr",
          "text": [
            "       8/30      6.22G      1.731      1.963      1.477        411        640: 100%|██████████| 87/87 [01:43<00:00,  1.19s/it]\n",
            "                 Class     Images  Instances      Box(P          R      mAP50  mAP50-95): 100%|██████████| 3/3 [00:04<00:00,  1.64s/it]"
          ]
        },
        {
          "output_type": "stream",
          "name": "stdout",
          "text": [
            "                   all        181       2065      0.211      0.119     0.0767     0.0333\n"
          ]
        },
        {
          "output_type": "stream",
          "name": "stderr",
          "text": [
            "\n"
          ]
        },
        {
          "output_type": "stream",
          "name": "stdout",
          "text": [
            "\n",
            "      Epoch    GPU_mem   box_loss   cls_loss   dfl_loss  Instances       Size\n"
          ]
        },
        {
          "output_type": "stream",
          "name": "stderr",
          "text": [
            "       9/30      6.44G      1.712      1.949      1.465        339        640: 100%|██████████| 87/87 [01:46<00:00,  1.22s/it]\n",
            "                 Class     Images  Instances      Box(P          R      mAP50  mAP50-95): 100%|██████████| 3/3 [00:04<00:00,  1.49s/it]"
          ]
        },
        {
          "output_type": "stream",
          "name": "stdout",
          "text": [
            "                   all        181       2065      0.212      0.127     0.0725      0.029\n"
          ]
        },
        {
          "output_type": "stream",
          "name": "stderr",
          "text": [
            "\n"
          ]
        },
        {
          "output_type": "stream",
          "name": "stdout",
          "text": [
            "\n",
            "      Epoch    GPU_mem   box_loss   cls_loss   dfl_loss  Instances       Size\n"
          ]
        },
        {
          "output_type": "stream",
          "name": "stderr",
          "text": [
            "      10/30      6.31G      1.676      1.891      1.444        380        640: 100%|██████████| 87/87 [01:44<00:00,  1.21s/it]\n",
            "                 Class     Images  Instances      Box(P          R      mAP50  mAP50-95): 100%|██████████| 3/3 [00:05<00:00,  1.68s/it]"
          ]
        },
        {
          "output_type": "stream",
          "name": "stdout",
          "text": [
            "                   all        181       2065      0.217       0.13     0.0821     0.0378\n"
          ]
        },
        {
          "output_type": "stream",
          "name": "stderr",
          "text": [
            "\n"
          ]
        },
        {
          "output_type": "stream",
          "name": "stdout",
          "text": [
            "\n",
            "      Epoch    GPU_mem   box_loss   cls_loss   dfl_loss  Instances       Size\n"
          ]
        },
        {
          "output_type": "stream",
          "name": "stderr",
          "text": [
            "      11/30      6.32G      1.633      1.847       1.43        357        640: 100%|██████████| 87/87 [01:46<00:00,  1.23s/it]\n",
            "                 Class     Images  Instances      Box(P          R      mAP50  mAP50-95): 100%|██████████| 3/3 [00:03<00:00,  1.07s/it]"
          ]
        },
        {
          "output_type": "stream",
          "name": "stdout",
          "text": [
            "                   all        181       2065      0.239      0.112     0.0793     0.0377\n"
          ]
        },
        {
          "output_type": "stream",
          "name": "stderr",
          "text": [
            "\n"
          ]
        },
        {
          "output_type": "stream",
          "name": "stdout",
          "text": [
            "\n",
            "      Epoch    GPU_mem   box_loss   cls_loss   dfl_loss  Instances       Size\n"
          ]
        },
        {
          "output_type": "stream",
          "name": "stderr",
          "text": [
            "      12/30      5.58G      1.633      1.837      1.426        316        640: 100%|██████████| 87/87 [01:44<00:00,  1.20s/it]\n",
            "                 Class     Images  Instances      Box(P          R      mAP50  mAP50-95): 100%|██████████| 3/3 [00:04<00:00,  1.66s/it]"
          ]
        },
        {
          "output_type": "stream",
          "name": "stdout",
          "text": [
            "                   all        181       2065       0.23       0.12     0.0885     0.0435\n"
          ]
        },
        {
          "output_type": "stream",
          "name": "stderr",
          "text": [
            "\n"
          ]
        },
        {
          "output_type": "stream",
          "name": "stdout",
          "text": [
            "\n",
            "      Epoch    GPU_mem   box_loss   cls_loss   dfl_loss  Instances       Size\n"
          ]
        },
        {
          "output_type": "stream",
          "name": "stderr",
          "text": [
            "      13/30      5.79G       1.63      1.828      1.414        320        640: 100%|██████████| 87/87 [01:49<00:00,  1.25s/it]\n",
            "                 Class     Images  Instances      Box(P          R      mAP50  mAP50-95): 100%|██████████| 3/3 [00:03<00:00,  1.01s/it]"
          ]
        },
        {
          "output_type": "stream",
          "name": "stdout",
          "text": [
            "                   all        181       2065      0.282      0.128     0.0989      0.048\n"
          ]
        },
        {
          "output_type": "stream",
          "name": "stderr",
          "text": [
            "\n"
          ]
        },
        {
          "output_type": "stream",
          "name": "stdout",
          "text": [
            "\n",
            "      Epoch    GPU_mem   box_loss   cls_loss   dfl_loss  Instances       Size\n"
          ]
        },
        {
          "output_type": "stream",
          "name": "stderr",
          "text": [
            "      14/30      7.15G      1.601       1.79      1.396        347        640: 100%|██████████| 87/87 [01:48<00:00,  1.25s/it]\n",
            "                 Class     Images  Instances      Box(P          R      mAP50  mAP50-95): 100%|██████████| 3/3 [00:03<00:00,  1.05s/it]"
          ]
        },
        {
          "output_type": "stream",
          "name": "stdout",
          "text": [
            "                   all        181       2065      0.293      0.129       0.11     0.0535\n"
          ]
        },
        {
          "output_type": "stream",
          "name": "stderr",
          "text": [
            "\n"
          ]
        },
        {
          "output_type": "stream",
          "name": "stdout",
          "text": [
            "\n",
            "      Epoch    GPU_mem   box_loss   cls_loss   dfl_loss  Instances       Size\n"
          ]
        },
        {
          "output_type": "stream",
          "name": "stderr",
          "text": [
            "      15/30      6.06G      1.582      1.776      1.396        355        640: 100%|██████████| 87/87 [01:47<00:00,  1.24s/it]\n",
            "                 Class     Images  Instances      Box(P          R      mAP50  mAP50-95): 100%|██████████| 3/3 [00:03<00:00,  1.02s/it]"
          ]
        },
        {
          "output_type": "stream",
          "name": "stdout",
          "text": [
            "                   all        181       2065      0.259      0.138      0.102     0.0502\n"
          ]
        },
        {
          "output_type": "stream",
          "name": "stderr",
          "text": [
            "\n"
          ]
        },
        {
          "output_type": "stream",
          "name": "stdout",
          "text": [
            "\n",
            "      Epoch    GPU_mem   box_loss   cls_loss   dfl_loss  Instances       Size\n"
          ]
        },
        {
          "output_type": "stream",
          "name": "stderr",
          "text": [
            "      16/30      5.84G      1.558      1.745      1.381        276        640: 100%|██████████| 87/87 [01:49<00:00,  1.26s/it]\n",
            "                 Class     Images  Instances      Box(P          R      mAP50  mAP50-95): 100%|██████████| 3/3 [00:02<00:00,  1.31it/s]"
          ]
        },
        {
          "output_type": "stream",
          "name": "stdout",
          "text": [
            "                   all        181       2065      0.258      0.129     0.0965     0.0468\n"
          ]
        },
        {
          "output_type": "stream",
          "name": "stderr",
          "text": [
            "\n"
          ]
        },
        {
          "output_type": "stream",
          "name": "stdout",
          "text": [
            "\n",
            "      Epoch    GPU_mem   box_loss   cls_loss   dfl_loss  Instances       Size\n"
          ]
        },
        {
          "output_type": "stream",
          "name": "stderr",
          "text": [
            "      17/30      6.59G      1.544       1.73      1.383        340        640: 100%|██████████| 87/87 [01:48<00:00,  1.24s/it]\n",
            "                 Class     Images  Instances      Box(P          R      mAP50  mAP50-95): 100%|██████████| 3/3 [00:02<00:00,  1.02it/s]"
          ]
        },
        {
          "output_type": "stream",
          "name": "stdout",
          "text": [
            "                   all        181       2065       0.27      0.135      0.105     0.0504\n"
          ]
        },
        {
          "output_type": "stream",
          "name": "stderr",
          "text": [
            "\n"
          ]
        },
        {
          "output_type": "stream",
          "name": "stdout",
          "text": [
            "\n",
            "      Epoch    GPU_mem   box_loss   cls_loss   dfl_loss  Instances       Size\n"
          ]
        },
        {
          "output_type": "stream",
          "name": "stderr",
          "text": [
            "      18/30      5.74G      1.523      1.715      1.365        452        640: 100%|██████████| 87/87 [01:46<00:00,  1.23s/it]\n",
            "                 Class     Images  Instances      Box(P          R      mAP50  mAP50-95): 100%|██████████| 3/3 [00:03<00:00,  1.00s/it]"
          ]
        },
        {
          "output_type": "stream",
          "name": "stdout",
          "text": [
            "                   all        181       2065      0.283      0.149      0.113     0.0534\n"
          ]
        },
        {
          "output_type": "stream",
          "name": "stderr",
          "text": [
            "\n"
          ]
        },
        {
          "output_type": "stream",
          "name": "stdout",
          "text": [
            "\n",
            "      Epoch    GPU_mem   box_loss   cls_loss   dfl_loss  Instances       Size\n"
          ]
        },
        {
          "output_type": "stream",
          "name": "stderr",
          "text": [
            "      19/30      6.21G      1.504      1.678      1.348        318        640: 100%|██████████| 87/87 [01:48<00:00,  1.24s/it]\n",
            "                 Class     Images  Instances      Box(P          R      mAP50  mAP50-95): 100%|██████████| 3/3 [00:02<00:00,  1.29it/s]"
          ]
        },
        {
          "output_type": "stream",
          "name": "stdout",
          "text": [
            "                   all        181       2065      0.294      0.142      0.114      0.054\n"
          ]
        },
        {
          "output_type": "stream",
          "name": "stderr",
          "text": [
            "\n"
          ]
        },
        {
          "output_type": "stream",
          "name": "stdout",
          "text": [
            "\n",
            "      Epoch    GPU_mem   box_loss   cls_loss   dfl_loss  Instances       Size\n"
          ]
        },
        {
          "output_type": "stream",
          "name": "stderr",
          "text": [
            "      20/30      5.92G      1.498      1.684      1.343        248        640: 100%|██████████| 87/87 [01:46<00:00,  1.23s/it]\n",
            "                 Class     Images  Instances      Box(P          R      mAP50  mAP50-95): 100%|██████████| 3/3 [00:02<00:00,  1.13it/s]"
          ]
        },
        {
          "output_type": "stream",
          "name": "stdout",
          "text": [
            "                   all        181       2065      0.285      0.135      0.111     0.0552\n"
          ]
        },
        {
          "output_type": "stream",
          "name": "stderr",
          "text": [
            "\n"
          ]
        },
        {
          "output_type": "stream",
          "name": "stdout",
          "text": [
            "Closing dataloader mosaic\n",
            "\u001b[34m\u001b[1malbumentations: \u001b[0mBlur(p=0.01, blur_limit=(3, 7)), MedianBlur(p=0.01, blur_limit=(3, 7)), ToGray(p=0.01, num_output_channels=3, method='weighted_average'), CLAHE(p=0.01, clip_limit=(1, 4.0), tile_grid_size=(8, 8))\n",
            "\n",
            "      Epoch    GPU_mem   box_loss   cls_loss   dfl_loss  Instances       Size\n"
          ]
        },
        {
          "output_type": "stream",
          "name": "stderr",
          "text": [
            "      21/30      5.49G      1.711       1.96      1.508        248        640: 100%|██████████| 87/87 [01:09<00:00,  1.25it/s]\n",
            "                 Class     Images  Instances      Box(P          R      mAP50  mAP50-95): 100%|██████████| 3/3 [00:02<00:00,  1.11it/s]"
          ]
        },
        {
          "output_type": "stream",
          "name": "stdout",
          "text": [
            "                   all        181       2065      0.321      0.139      0.119     0.0617\n"
          ]
        },
        {
          "output_type": "stream",
          "name": "stderr",
          "text": [
            "\n"
          ]
        },
        {
          "output_type": "stream",
          "name": "stdout",
          "text": [
            "\n",
            "      Epoch    GPU_mem   box_loss   cls_loss   dfl_loss  Instances       Size\n"
          ]
        },
        {
          "output_type": "stream",
          "name": "stderr",
          "text": [
            "      22/30      6.25G      1.691      1.926      1.492        185        640: 100%|██████████| 87/87 [01:07<00:00,  1.30it/s]\n",
            "                 Class     Images  Instances      Box(P          R      mAP50  mAP50-95): 100%|██████████| 3/3 [00:02<00:00,  1.09it/s]"
          ]
        },
        {
          "output_type": "stream",
          "name": "stdout",
          "text": [
            "                   all        181       2065      0.323       0.14      0.123     0.0651\n"
          ]
        },
        {
          "output_type": "stream",
          "name": "stderr",
          "text": [
            "\n"
          ]
        },
        {
          "output_type": "stream",
          "name": "stdout",
          "text": [
            "\n",
            "      Epoch    GPU_mem   box_loss   cls_loss   dfl_loss  Instances       Size\n"
          ]
        },
        {
          "output_type": "stream",
          "name": "stderr",
          "text": [
            "      23/30      6.36G      1.672      1.894      1.489        215        640: 100%|██████████| 87/87 [01:04<00:00,  1.34it/s]\n",
            "                 Class     Images  Instances      Box(P          R      mAP50  mAP50-95): 100%|██████████| 3/3 [00:04<00:00,  1.52s/it]"
          ]
        },
        {
          "output_type": "stream",
          "name": "stdout",
          "text": [
            "                   all        181       2065       0.31      0.142      0.127     0.0657\n"
          ]
        },
        {
          "output_type": "stream",
          "name": "stderr",
          "text": [
            "\n"
          ]
        },
        {
          "output_type": "stream",
          "name": "stdout",
          "text": [
            "\n",
            "      Epoch    GPU_mem   box_loss   cls_loss   dfl_loss  Instances       Size\n"
          ]
        },
        {
          "output_type": "stream",
          "name": "stderr",
          "text": [
            "      24/30      6.19G      1.654      1.876      1.473        293        640: 100%|██████████| 87/87 [01:04<00:00,  1.35it/s]\n",
            "                 Class     Images  Instances      Box(P          R      mAP50  mAP50-95): 100%|██████████| 3/3 [00:02<00:00,  1.04it/s]"
          ]
        },
        {
          "output_type": "stream",
          "name": "stdout",
          "text": [
            "                   all        181       2065      0.292      0.154      0.123     0.0627\n"
          ]
        },
        {
          "output_type": "stream",
          "name": "stderr",
          "text": [
            "\n"
          ]
        },
        {
          "output_type": "stream",
          "name": "stdout",
          "text": [
            "\n",
            "      Epoch    GPU_mem   box_loss   cls_loss   dfl_loss  Instances       Size\n"
          ]
        },
        {
          "output_type": "stream",
          "name": "stderr",
          "text": [
            "      25/30      5.69G      1.647      1.863      1.471        159        640: 100%|██████████| 87/87 [01:06<00:00,  1.31it/s]\n",
            "                 Class     Images  Instances      Box(P          R      mAP50  mAP50-95): 100%|██████████| 3/3 [00:02<00:00,  1.23it/s]"
          ]
        },
        {
          "output_type": "stream",
          "name": "stdout",
          "text": [
            "                   all        181       2065      0.346      0.149      0.131     0.0701\n"
          ]
        },
        {
          "output_type": "stream",
          "name": "stderr",
          "text": [
            "\n"
          ]
        },
        {
          "output_type": "stream",
          "name": "stdout",
          "text": [
            "\n",
            "      Epoch    GPU_mem   box_loss   cls_loss   dfl_loss  Instances       Size\n"
          ]
        },
        {
          "output_type": "stream",
          "name": "stderr",
          "text": [
            "      26/30      6.64G       1.62      1.829       1.45        194        640: 100%|██████████| 87/87 [01:06<00:00,  1.31it/s]\n",
            "                 Class     Images  Instances      Box(P          R      mAP50  mAP50-95): 100%|██████████| 3/3 [00:02<00:00,  1.06it/s]"
          ]
        },
        {
          "output_type": "stream",
          "name": "stdout",
          "text": [
            "                   all        181       2065      0.311      0.158      0.131     0.0687\n"
          ]
        },
        {
          "output_type": "stream",
          "name": "stderr",
          "text": [
            "\n"
          ]
        },
        {
          "output_type": "stream",
          "name": "stdout",
          "text": [
            "\n",
            "      Epoch    GPU_mem   box_loss   cls_loss   dfl_loss  Instances       Size\n"
          ]
        },
        {
          "output_type": "stream",
          "name": "stderr",
          "text": [
            "      27/30      5.92G      1.592      1.814      1.441        210        640: 100%|██████████| 87/87 [01:04<00:00,  1.35it/s]\n",
            "                 Class     Images  Instances      Box(P          R      mAP50  mAP50-95): 100%|██████████| 3/3 [00:03<00:00,  1.00s/it]"
          ]
        },
        {
          "output_type": "stream",
          "name": "stdout",
          "text": [
            "                   all        181       2065      0.305      0.155      0.129     0.0685\n"
          ]
        },
        {
          "output_type": "stream",
          "name": "stderr",
          "text": [
            "\n"
          ]
        },
        {
          "output_type": "stream",
          "name": "stdout",
          "text": [
            "\n",
            "      Epoch    GPU_mem   box_loss   cls_loss   dfl_loss  Instances       Size\n"
          ]
        },
        {
          "output_type": "stream",
          "name": "stderr",
          "text": [
            "      28/30      6.81G      1.569      1.775      1.422        186        640: 100%|██████████| 87/87 [01:05<00:00,  1.34it/s]\n",
            "                 Class     Images  Instances      Box(P          R      mAP50  mAP50-95): 100%|██████████| 3/3 [00:02<00:00,  1.10it/s]"
          ]
        },
        {
          "output_type": "stream",
          "name": "stdout",
          "text": [
            "                   all        181       2065      0.342      0.154      0.139     0.0764\n"
          ]
        },
        {
          "output_type": "stream",
          "name": "stderr",
          "text": [
            "\n"
          ]
        },
        {
          "output_type": "stream",
          "name": "stdout",
          "text": [
            "\n",
            "      Epoch    GPU_mem   box_loss   cls_loss   dfl_loss  Instances       Size\n"
          ]
        },
        {
          "output_type": "stream",
          "name": "stderr",
          "text": [
            "      29/30      6.04G      1.558      1.759      1.415        251        640: 100%|██████████| 87/87 [01:06<00:00,  1.31it/s]\n",
            "                 Class     Images  Instances      Box(P          R      mAP50  mAP50-95): 100%|██████████| 3/3 [00:03<00:00,  1.06s/it]"
          ]
        },
        {
          "output_type": "stream",
          "name": "stdout",
          "text": [
            "                   all        181       2065      0.336      0.161      0.142     0.0769\n"
          ]
        },
        {
          "output_type": "stream",
          "name": "stderr",
          "text": [
            "\n"
          ]
        },
        {
          "output_type": "stream",
          "name": "stdout",
          "text": [
            "\n",
            "      Epoch    GPU_mem   box_loss   cls_loss   dfl_loss  Instances       Size\n"
          ]
        },
        {
          "output_type": "stream",
          "name": "stderr",
          "text": [
            "      30/30      6.72G      1.539      1.731      1.397        177        640: 100%|██████████| 87/87 [01:02<00:00,  1.39it/s]\n",
            "                 Class     Images  Instances      Box(P          R      mAP50  mAP50-95): 100%|██████████| 3/3 [00:03<00:00,  1.32s/it]"
          ]
        },
        {
          "output_type": "stream",
          "name": "stdout",
          "text": [
            "                   all        181       2065       0.34      0.157      0.146     0.0779\n"
          ]
        },
        {
          "output_type": "stream",
          "name": "stderr",
          "text": [
            "\n"
          ]
        },
        {
          "output_type": "stream",
          "name": "stdout",
          "text": [
            "\n",
            "30 epochs completed in 0.826 hours.\n",
            "Optimizer stripped from /content/drive/MyDrive/Models/Yolo_Cracks_SegmentationV1/train/weights/last.pt, 5.5MB\n",
            "Optimizer stripped from /content/drive/MyDrive/Models/Yolo_Cracks_SegmentationV1/train/weights/best.pt, 5.5MB\n",
            "\n",
            "Validating /content/drive/MyDrive/Models/Yolo_Cracks_SegmentationV1/train/weights/best.pt...\n",
            "Ultralytics 8.3.23 🚀 Python-3.10.12 torch-2.5.0+cu121 CUDA:0 (Tesla T4, 15102MiB)\n",
            "YOLO11n summary (fused): 238 layers, 2,582,347 parameters, 0 gradients, 6.3 GFLOPs\n"
          ]
        },
        {
          "output_type": "stream",
          "name": "stderr",
          "text": [
            "                 Class     Images  Instances      Box(P          R      mAP50  mAP50-95): 100%|██████████| 3/3 [00:03<00:00,  1.17s/it]\n"
          ]
        },
        {
          "output_type": "stream",
          "name": "stdout",
          "text": [
            "                   all        181       2065       0.34      0.157      0.146     0.0782\n",
            "Speed: 0.2ms preprocess, 2.5ms inference, 0.0ms loss, 5.5ms postprocess per image\n",
            "Results saved to \u001b[1m/content/drive/MyDrive/Models/Yolo_Cracks_SegmentationV1/train\u001b[0m\n"
          ]
        }
      ]
    },
    {
      "cell_type": "code",
      "source": [
        "# the Results graphs images\n",
        "image_path = os.path.join(yolo_project_dir, \"train/results.png\")\n",
        "image = Image.open(image_path)\n",
        "# image.show()\n",
        "plt.figure(figsize=(15, 30))\n",
        "plt.imshow(image)\n",
        "plt.axis('off')\n",
        "plt.show()"
      ],
      "metadata": {
        "colab": {
          "base_uri": "https://localhost:8080/",
          "height": 638
        },
        "id": "snvoE3AyDCne",
        "outputId": "3ca9d104-0822-4265-9dfb-94f6bc7b90fc"
      },
      "execution_count": null,
      "outputs": [
        {
          "output_type": "display_data",
          "data": {
            "text/plain": [
              "<Figure size 1500x3000 with 1 Axes>"
            ],
            "image/png": "[encoded data removed]"
          },
          "metadata": {}
        }
      ]
    },
    {
      "cell_type": "markdown",
      "source": [
        "Results interpretation:\n",
        "\n",
        "#Training Loss Curves:\n",
        "\n",
        "###Train/box_loss:\n",
        "This curve shows the loss for the bounding box regression. It generally decreases over epochs, indicating the model is getting better at predicting the location and size of cracks.\n",
        "###Train/cls_loss:\n",
        "This curve shows the loss for the classification of objects within the bounding boxes. A decreasing trend here suggests the model is improving at identifying cracks.\n",
        "###Train/dfl_loss:\n",
        " This curve shows the loss for the detection head, which predicts the presence of objects and their confidence scores. A decreasing trend here indicates the model is getting better at detecting cracks.\n",
        "\n",
        "#Validation Loss Curves:\n",
        "\n",
        "###Val/box_loss:\n",
        "This curve shows the loss for the bounding box regression on the validation set. A decreasing trend here is ideal, but it's possible to see some fluctuations due to the variability of validation data.\n",
        "###Val/cls_loss:\n",
        "This curve shows the classification loss on the validation set. Similar to the training loss, a decreasing trend is desired.\n",
        "###Val/dfl_loss:\n",
        "This curve shows the detection head loss on the validation set. A decreasing trend here indicates the model is improving at detecting cracks on unseen data.\n",
        "\n",
        "#Metrics:\n",
        "\n",
        "###metrics/precision(B):\n",
        "This metric measures the proportion of true positive detections among all positive predictions. A higher value indicates better precision.\n",
        "###metrics/recall(B):\n",
        " This metric measures the proportion of true positive detections among all actual positive instances. A higher value indicates better recall.\n",
        "###metrics/mAP50(B):\n",
        "This metric is the mean Average Precision at an Intersection over Union (IoU) threshold of 0.5. It provides a more comprehensive measure of the model's performance.\n",
        "###metrics/mAP50-95(B):\n",
        " This metric is similar to mAP50 but considers a wider range of IoU thresholds (0.5 to 0.95). It provides a more stringent evaluation of the model's performance.\n",
        "\n",
        "#Overall Observations:\n",
        "\n",
        "The training losses for all three components (box, cls, and dfl) are generally decreasing, indicating that the model is learning.\n",
        "The validation losses are also generally decreasing, suggesting that the model is generalizing well to unseen data.\n",
        "The precision and recall metrics are increasing, which is a good sign.\n",
        "The mAP50 and mAP50-95 metrics are also increasing, indicating that the model's performance is improving overall."
      ],
      "metadata": {
        "id": "iowZrQMFFCIc"
      }
    },
    {
      "cell_type": "code",
      "source": [],
      "metadata": {
        "id": "ezt2s66VFAub"
      },
      "execution_count": null,
      "outputs": []
    },
    {
      "cell_type": "code",
      "source": [
        "stats_dir = \"./cracksSegmentation/train2\"\n",
        "\n",
        "def visualize_images(directory):\n",
        "    # Filter out non-image files by checking file extensions\n",
        "    image_files = [f for f in os.listdir(directory) if f.endswith(('.png', '.jpg', '.jpeg'))]\n",
        "\n",
        "    # Define the grid size for visualization (e.g., 3x3, or adjust as needed)\n",
        "    num_images = len(image_files)\n",
        "    cols = 3\n",
        "    rows = (num_images // cols) + (num_images % cols > 0)\n",
        "\n",
        "    # Create subplots\n",
        "    fig, axes = plt.subplots(rows, cols, figsize=(15, 5 * rows))\n",
        "    axes = axes.ravel()  # Flatten the axes array for easy iteration\n",
        "\n",
        "    # Loop through each image file and display it\n",
        "    for i, image_file in enumerate(image_files):\n",
        "        image_path = os.path.join(directory, image_file)\n",
        "        img = Image.open(image_path)\n",
        "        axes[i].imshow(img)\n",
        "        axes[i].set_title(image_file)\n",
        "        axes[i].axis('off')\n",
        "\n",
        "    # Hide any remaining empty subplots\n",
        "    for j in range(i + 1, len(axes)):\n",
        "        axes[j].axis('off')\n",
        "\n",
        "    plt.tight_layout()\n",
        "    plt.show()\n",
        "\n",
        "# Example usage:\n",
        "visualize_images(stats_dir)"
      ],
      "metadata": {
        "id": "6uodSH4thuQ2"
      },
      "execution_count": null,
      "outputs": []
    }
  ],
  "metadata": {
    "kernelspec": {
      "display_name": "Python 3",
      "name": "python3"
    },
    "language_info": {
      "codemirror_mode": {
        "name": "ipython",
        "version": 3
      },
      "file_extension": ".py",
      "mimetype": "text/x-python",
      "name": "python",
      "nbconvert_exporter": "python",
      "pygments_lexer": "ipython3",
      "version": "3.9.20"
    },
    "colab": {
      "provenance": [],
      "gpuType": "T4",
      "include_colab_link": true
    },
    "accelerator": "GPU"
  },
  "nbformat": 4,
  "nbformat_minor": 0
}